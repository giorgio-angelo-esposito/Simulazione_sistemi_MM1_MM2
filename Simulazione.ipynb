{
  "nbformat": 4,
  "nbformat_minor": 0,
  "metadata": {
    "colab": {
      "name": "Simulazione.ipynb",
      "provenance": [],
      "collapsed_sections": []
    },
    "kernelspec": {
      "name": "python3",
      "display_name": "Python 3"
    },
    "language_info": {
      "name": "python"
    }
  },
  "cells": [
    {
      "cell_type": "markdown",
      "source": [
        "# **Simulazione di sistemi di servizio M/M/1 e M/M/2 in equilibrio statistico e nel transiente con Python**\n",
        "# di Esposito Giorgio Angelo, matricola 0512107389, per il corso di Simulazione"
      ],
      "metadata": {
        "id": "1SSwxt39F_1c"
      }
    },
    {
      "cell_type": "markdown",
      "source": [
        "Per l'esame per il corso di Simulazione, docente di riferimento professoressa Amelia Giuseppina Nobile, si è deciso di esporre quelli che in letteratura sono chiamati sistemi di servizio M/M/1 e M/M/2 e di utilizzare algoritmi per simulare tali sistemi al computer.\n",
        "In questo notebook ci proponiamo i seguenti obiettivi:\n",
        "\n",
        "1.   Introdurre cos'è un sistema di servizio\n",
        "2.   Esporre cosa sono i sistemi M/M/1 e M/M/2\n",
        "3.   Simulare il sistema M/M/1 in condizioni di equilibrio statico e nel transiente\n",
        "4.   Simulare il sistema M/M/2 in condizioni di equilibrio statico e nel transiente\n",
        "\n"
      ],
      "metadata": {
        "id": "WnDZYYSPYZiP"
      }
    },
    {
      "cell_type": "markdown",
      "source": [
        "# **INTRODUZIONE**"
      ],
      "metadata": {
        "id": "oDGKz-5taTPY"
      }
    },
    {
      "cell_type": "markdown",
      "source": [
        "\n",
        "\n",
        "---\n",
        "\n",
        "\n",
        "**Descrizione di un sistema di servizio**"
      ],
      "metadata": {
        "id": "rItA0ZD-dW4h"
      }
    },
    {
      "cell_type": "markdown",
      "source": [
        "Prima di esporre cosa sono i sistemi M/M/1 e M/M/2, vediamo alcune definizioni fondamentali.  \n",
        "La *teoria delle file di attesa* (o *teoria delle code*) si occupa dello studio e dell'analisi di modelli matematici e di simulazione atti a descrivere veri sistemi dove un utente richiede un servizio e deve attendere in una coda se non può ricevere immediatamente il servizio. \n",
        "Un sistema di servizio è formato da quattro componenti fondamentali:\n",
        "\n",
        "\n",
        "1.   **Sorgente**: rappresenta l'insieme dei potenziali utenti che possono arrivare al sistema di servizio\n",
        "2.   **Centro di attesa**: rappresenta l'insieme delle richieste che non possono essere soddisfatte immediatamente\n",
        "3.   **Centro di servizio**: rappresenta il luogo dove vengono soddisfatte le richieste degli utenti. Al suo interno sono presenti uno o più servitori. Un **servitore** è un entità capace di soddisfare le richieste di un utente.\n",
        "4.   **Destinazione**: rappresenta l'insieme delle richieste che sono state soddisfatte e che lasciano il sistema.  \n"
      ],
      "metadata": {
        "id": "91t83UTGXmRw"
      }
    },
    {
      "cell_type": "markdown",
      "source": [
        "Per descrivere un sistema di servizio bisogna anche specificare quelli che sono i **meccanismi di arrivo** e i **meccanismi di servizio**."
      ],
      "metadata": {
        "id": "Q7g0Ej4hhFxC"
      }
    },
    {
      "cell_type": "markdown",
      "source": [
        "\n",
        "\n",
        "---\n",
        "\n",
        "\n",
        "**Meccanismi di arrivo**"
      ],
      "metadata": {
        "id": "Lt6_sZcpd6Qy"
      }
    },
    {
      "cell_type": "markdown",
      "source": [
        "I meccanismi di arrivo indicano la funzione di distribuzione delle variabili aleatorie $T_1$,$T_2$,..., che rappresentano i *tempi di interarrivo*, ovvero la lunghezza dell'intervallo tra l'arrivo $(i-1)-esimo$ e l'arrivo $i-esimo$.  \n",
        "I più frequenti meccanismi di arrivo sono:\n",
        "\n",
        "\n",
        "*   $D$: i tempi di interarrivo sono indipendenti e identicamente distribuiti con funzione di distribuzione deterministica\n",
        "*   $U$: i tempi di interarrivo sono indipendenti e identicamente distribuiti con funzione di distribuzione uniforme\n",
        "*   $M$: i tempi di interarrivo sono indipendenti e identicamente distribuiti con funzione di distribuzione esponenziale\n",
        "*   $E_k$: i tempi di interarrivo sono indipendenti e identicamente distribuiti con funzione di distribuzione di Erlang di ordine $k$\n",
        "*   $H_K$: i tempi di interarrivo sono indipendenti e identicamente distribuiti con funzione di distribuzione iperesponenziale di ordine $k$\n",
        "*   $G$: i tempi di interarrivo sono indipendenti e identicamente distribuiti con funzione di distribuzione generale"
      ],
      "metadata": {
        "id": "xzEA0oZwg3XN"
      }
    },
    {
      "cell_type": "markdown",
      "source": [
        "\n",
        "\n",
        "---\n",
        "\n",
        "\n",
        "**Meccanismi di servizio**"
      ],
      "metadata": {
        "id": "ZEL35hOaeEL3"
      }
    },
    {
      "cell_type": "markdown",
      "source": [
        "I meccanismi di servizio indicano la funzione di distribuzione delle variabili aleatorie $S_1$,$S_2$,..., che rappresentano i *tempi di servizio*, per ognuno degli utenti.  \n",
        "I più frequenti meccanismi di servizio sono:\n",
        "\n",
        "\n",
        "*   $D$: i tempi di servizio sono indipendenti e identicamente distribuiti con funzione di distribuzione deterministica\n",
        "*   $U$: i tempi di servizio sono indipendenti e identicamente distribuiti con funzione di distribuzione uniforme\n",
        "*   $M$: i tempi di servizio sono indipendenti e identicamente distribuiti con funzione di distribuzione esponenziale\n",
        "*   $E_k$: i tempi di servizio sono indipendenti e identicamente distribuiti con funzione di distribuzione di Erlang di ordine $k$\n",
        "*   $H_K$: i tempi di servizio sono indipendenti e identicamente distribuiti con funzione di distribuzione iperesponenziale di ordine $k$\n",
        "*   $G$: i tempi di servizio sono indipendenti e identicamente distribuiti con funzione di distribuzione generale"
      ],
      "metadata": {
        "id": "y7-8TJ_ohJPo"
      }
    },
    {
      "cell_type": "markdown",
      "source": [
        "\n",
        "\n",
        "---\n",
        "\n",
        "\n",
        "**Notazione di Kendall**"
      ],
      "metadata": {
        "id": "yqEMfReseJuy"
      }
    },
    {
      "cell_type": "markdown",
      "source": [
        "Per rappresentare un sistema di servzio si una una notazione standard chiamata *notazione di Kendall*: generalmente, si indica un sistema di servizio nel seguente modo: $A/B/s/K/m/Z$, dove:\n",
        "\n",
        "\n",
        "*   $A$: indica il meccanismo di arrivo\n",
        "*   $B$: indica il meccanismo di servizio\n",
        "*   $s$: indica il numero dei servitori in parallelo\n",
        "*   $K$: indica la capacità del sistema, ovvero il numero massimo di utenti che possono essere nel sistema (in coda e in servizio)\n",
        "*   $m$: indica la dimesione della sorgente (finita o infinita)\n",
        "*   $Z$: indica la disciplina di servizio, ovvero come vengono selezionati gli utenti dalla coda di attesa ($FIFO, LIFO, SIRO, PRI)$\n",
        "\n",
        "I valori per $A$ e $B$ sono quelli indicati sopra.  \n",
        "Si può anche utilizzare una notazione abbreviata $A/B/s$ dove si intende che il sistema ha capacità illimitata, la sorgente è infinita e la disciplina di servizio è la $FIFO$.\n",
        "\n",
        "\n",
        "\n",
        "\n",
        "\n"
      ],
      "metadata": {
        "id": "smA6QaXUiVCf"
      }
    },
    {
      "cell_type": "markdown",
      "source": [
        "\n",
        "\n",
        "---\n",
        "\n",
        "\n",
        "**Processi di nascita-morte**"
      ],
      "metadata": {
        "id": "9NOkgAN2eOnw"
      }
    },
    {
      "cell_type": "markdown",
      "source": [
        "Per rappresentare un sistema di servizio utilizziamo dei processi stocastici continui nel tempo e discreti nello spazio degli stati, $\\bigl\\{N(t), t \\geq 0 \\bigr\\}$, dove $N(t)$ rappresenta il numero di utenti nel sistema al tempo $t$, detti *processi stocastici di nascita-morte*.  \n",
        "I processi stocastici di nascita-morte permettono di rappresentare sistemi dove gli stati sono il numero di individui e i cambiamenti di stato rappresentano l'arrivo (quindi la nascita) di nuovi utenti e la partenza (quindi la morte) di utenti. Gli insiemi $\\bigl\\{\\lambda_n: n = 0,1,2....\\bigr\\}$ e $\\bigl\\{\\mu_n: n = 1,2,3....\\bigr\\}$ rappresentano i parametri di arrivo e di partenza.  \n",
        "Se si verificano solo arrivi, allora il processo $\\bigl\\{N(t), t \\geq 0 \\bigr\\}$ prende il nome di *processo di Poisson*."
      ],
      "metadata": {
        "id": "HywbbwSjpYN6"
      }
    },
    {
      "cell_type": "markdown",
      "source": [
        "Nei processi di nascita-morte siamo interessati alle probabilità che al tempo *t* ci siano *n* utenti, ovvero che \n",
        "\\begin{align}\n",
        "    p_n(t) = P\\bigl\\{N(t) = n\\bigr\\} \n",
        "\\end{align}\n",
        "\n",
        "ma queste probabilità sono molto difficili da calcolare, quindi vogliamo trovare delle condizioni su $\\bigl\\{\\lambda_n: n = 0,1,2....\\bigr\\}$ e $\\bigl\\{\\mu_n: n = 1,2,3....\\bigr\\}$ per arrivare a una condizione di *equilibrio statistico*.  \n",
        "Indichiamo con\n",
        "\\begin{align}\n",
        "    q_n(t) = lim_{t \\to +\\infty} p_n(t)  \n",
        "\\end{align}\n",
        "\n",
        "la probabilità di avere n utenti nel sistema nella situazione di equilibrio.  \n",
        "Allora un processo di nascita-morte $\\bigl\\{N(t), t \\geq 0 \\bigr\\}$ ammette una distribuzione di equilibrio statistico $\\bigl\\{q_0,q_1,...\\bigr\\}$ se e solo se:  \n",
        "\n",
        "\\begin{align}\n",
        "  1 + ∑_{n=1}^{+\\infty} \\frac{\\lambda_0\\lambda_1\\lambda_2⋅⋅⋅λ_{n-1}}{\\mu_1\\mu_2\\mu_2⋅⋅⋅\\mu_{n}} < +\\infty \n",
        "\\end{align}\n",
        "\n",
        "e si ha \n",
        "\n",
        "\\begin{align}\n",
        "q_0 = P(N = 0) = \\biggl[1 + ∑_{n=1}^{+\\infty} \\frac{\\lambda_0\\lambda_1\\lambda_2⋅⋅⋅λ_{n-1}}{\\mu_1\\mu_2\\mu_2⋅⋅⋅\\mu_{n}} \\biggr]^{-1}\n",
        "\\end{align}\n",
        "\n",
        "e\n",
        "\n",
        "\\begin{align}\n",
        "q_n = P(N = n) = q_0\\frac{\\lambda_0\\lambda_1\\lambda_2⋅⋅⋅λ_{n-1}}{\\mu_1\\mu_2\\mu_2⋅⋅⋅\\mu_{n}}\n",
        "\\end{align}"
      ],
      "metadata": {
        "id": "11oSNbkwtRXy"
      }
    },
    {
      "cell_type": "markdown",
      "source": [
        "# **Sistema M/M/1**\n",
        "![mm1.PNG](data:image/png;base64,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)"
      ],
      "metadata": {
        "id": "LGeJzmaRbO4C"
      }
    },
    {
      "cell_type": "markdown",
      "source": [
        "Il sistema M/M/1 è un sistema di servizio con un unico servitore, dove i tempi di interarrivo sono indipendenti e identicamente distribuiti secondo una distribuzione esponenziale di valore medio $1/\\lambda$ e i tempi di servzio sono indipendenti e identicamente distribuiti secondo una distribuzione esponenziale di valore medio $1/\\mu$. La capacità del sistema è illimitata, la sorgente è infinita e gli utenti entrano in servizio secondo la disciplina $FIFO$.  \n",
        "In questo sistema, dopo ogni arrivo di un utente, se il servitore è libero, allora l'utente entra subito in servizio, altrimenti, se all'arrivo il servitore è occupato, l'utente attenderà in coda. Al termine del servizio, l'utente lascia il sistema e un nuovo utente entra in servizio dopo essere stato in coda."
      ],
      "metadata": {
        "id": "8bFQSyUqdWCG"
      }
    },
    {
      "cell_type": "markdown",
      "source": [
        "Indichiamo con $N(t)$ il numero di utenti nel sistema al tempo $t$. Possiamo rappresentare il sistema M/M/1 tramite un processo di nascita-morte $\\bigl\\{N(t), t \\geq 0 \\bigr\\}$ di parametri:\n",
        "\n",
        "$\\lambda_n = \\lambda$ (n = 0,1,2,...) e $\\mu_n = \\mu$ (n = 1,2,3,...)\n",
        "\n",
        "Il sistema raggiunge una condizione di equilibrio se\n",
        "\n",
        "\\begin{align}\n",
        "  1 + ∑_{n=1}^{+\\infty} \\frac{\\lambda_0\\lambda_1\\lambda_2⋅⋅⋅λ_{n-1}}{\\mu_1\\mu_2\\mu_2⋅⋅⋅\\mu_{n}} = ∑_{n = 0}^{+∞} {\\bigg(\\frac{\\lambda}{\\mu}\\bigg)}^n =  ∑_{n = 0}^{+∞} ϱ^n\n",
        "\\end{align}\n",
        "\n",
        "la serie converge, quindi se $ϱ < 1$ e otteniamo:\n",
        "\n",
        "\\begin{align}\n",
        "  q_0 = P(N = 0) = 1 - ϱ\n",
        "\\end{align}\n",
        "\n",
        "\\begin{align}\n",
        "  q_n = P(N = n) = (1 - ϱ)ϱ^n \\:(n = 1,2,....)\n",
        "\\end{align}\n"
      ],
      "metadata": {
        "id": "56hXNZcxiQHD"
      }
    },
    {
      "cell_type": "markdown",
      "source": [
        "Una volta calcolate le probabilità in condizioni di equilibrio statistico possiamo calcolare i parametri prestazionali del sistema. Sono riportati di seguito:\n",
        "\n",
        "\n",
        "*   Frequenza media di arrivo per unità di tempo: $λ^* = λ$\n",
        "*   Frequenza media di arrivo per unità di tempo: $μ^* = μ$\n",
        "*   Intensità di traffico: $ϱ^* = \\:\\frac{λ}{μ}$\n",
        "*   Numero medio di utenti nel sistema: $E(N) =\\: \\frac{ϱ}{1 - ϱ}$\n",
        "*   Numero medio di utenti in coda: $E(N_q) =\\: \\frac{ϱ^2}{1 - ϱ}$\n",
        "*   Numero medio di utenti in servizio: $E(N_s) =\\: \\frac{λ}{μ}$\n",
        "*   Tempo medio di attesa nel sistema: $E(W) = \\frac{1}{μ - λ}$\n",
        "*   Tempo medio di attesa in coda: $E(Q) =\\: \\frac{ϱ}{μ - λ}$\n",
        "*   Tempo medio di attesa in servizio: $E(S) = \\frac{1}{μ}$\n"
      ],
      "metadata": {
        "id": "lZKlfsdE753A"
      }
    },
    {
      "cell_type": "markdown",
      "source": [
        "# **Sistema M/M/2**\n",
        "\n",
        "![mm2.PNG](data:image/png;base64,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)\n",
        "\n"
      ],
      "metadata": {
        "id": "uNvzXc9G7TNM"
      }
    },
    {
      "cell_type": "markdown",
      "source": [
        "Il sistema M/M/2 è un sistema di servizio con due servitori, dove i tempi di interarrivo sono indipendenti e identicamente distribuiti esponenzialmente di valore medio $1/λ$ e i tempi di servizio per ognuno dei due servitori sono indipendenti e identicamente distribuiti esponenzialmente di valore medio $1/μ$. La capacità del sistema è illimitata, la sorgente è infinita e gli utenti entrano in servizio secondo la disciplina $FIFO$.  \n",
        "All' arrivo di un utente, se uno dei due servitori è libero allora l'utente si dirige verso quel servitore, se entrambi i servitori sono liberi, sceglie a caso verso quale dirigersi, mentre se sono entrambi occupati aspetta in coda.  "
      ],
      "metadata": {
        "id": "Mq_uCQond5Su"
      }
    },
    {
      "cell_type": "markdown",
      "source": [
        "Indichiamo con $N(t)$ il numero di utenti presenti nel sistema al tempo $t$. Il sistema M/M/2 è rappresentabile tramite un processo di nascita-morte $\\bigl\\{N(T), t \\geq 0 \\bigr\\}$ di parametri:\n",
        "\\begin{align}  \n",
        "\\lambda_n = \\lambda (n = 0,1,2,...)   \n",
        "\\end{align}\n",
        "\n",
        "e\n",
        "\n",
        "\\begin{align}\n",
        "        \\mu_n = \\mu min(2,n) = \\left\\{\n",
        "        \\begin{array}{cl}\n",
        "        μ & n = 1 \\\\\n",
        "        2μ & n = 2,3...\n",
        "        \\end{array}\n",
        "        \\right.\n",
        "    \\end{align}\n",
        "  \n",
        "\n",
        "Il sistema raggiunge una condizione di equilibrio se\n",
        "\n",
        "\\begin{align}\n",
        "  1 + ∑_{n=1}^{+\\infty} \\frac{\\lambda_0\\lambda_1\\lambda_2⋅⋅⋅λ_{n-1}}{\\mu_1\\mu_2\\mu_2⋅⋅⋅\\mu_{n}} = 1 + \\frac{λ}{μ} + \\frac{λ^2}{μ(2μ)} + \\frac{λ^3}{μ(2μ)^2}+ ... = 1 + \\frac{λ}{μ} + \\frac{λ^2}{μ(2μ)} ∑_{n=1}^{+\\infty} {\\bigg(\\frac{\\lambda}{2\\mu}\\bigg)^k}\n",
        "\\end{align}\n",
        "\n",
        "ponendo $ϱ_2 = \\frac{λ}{2\\mu} $ la serie converge per $ϱ_2 \\lt 1$ e otteniamo \n",
        "\n",
        "\\begin{align}\n",
        " 1 + ∑_{n=1}^{+\\infty} \\frac{\\lambda_0\\lambda_1\\lambda_2⋅⋅⋅λ_{n-1}}{\\mu_1\\mu_2\\mu_2⋅⋅⋅\\mu_{n}} = 1 + 2ϱ_2 + 2ϱ_2^2\\frac{1}{1-ϱ_2} = \\frac{1 + ϱ_2}{1 - ϱ_2}\n",
        "\\end{align}\n",
        "\n",
        "Le probabilità di avere n utenti in condizioni di equilibrio sono: \n",
        "\\begin{align}\n",
        "q_0 = P(N = 0) = \\frac{1 - ϱ_2}{1 + ϱ_2}\n",
        "\\end{align}\n",
        "\n",
        "\\begin{align}\n",
        "q_n = P(N = n) = q_0\\frac{\\lambda_0\\lambda_1\\lambda_2⋅⋅⋅λ_{n-1}}{\\mu_1\\mu_2\\mu_2⋅⋅⋅\\mu_{n}} = 2\\frac{1 - ϱ_2}{1 + ϱ_2}ϱ_2^n \\: (n = 1,2,...)\n",
        "\\end{align}\n"
      ],
      "metadata": {
        "id": "RupjA37tg-In"
      }
    },
    {
      "cell_type": "markdown",
      "source": [
        "Nel sistema M/M/2 una particolare probabilità è molto importante, ovvero la probabilità che *un utente deve aspettare in fila di attesa*, ovvero la probabilità che all'arrivo l'utente trovi tutti e due i servitori occupati.\n",
        "\\begin{align}\n",
        "P(N \\geq 2)  = ∑_{n = 2}^{+\\infty} q_n = 2\\frac{1 - ϱ_2}{1 + ϱ_2} ∑_{n = 2}^{+\\infty} ϱ_2^n = 2\\frac{1 - ϱ_2}{1 + ϱ_2}ϱ_2^n ∑_{n = 2}^{+\\infty} ϱ_2^{n-2} = \\frac{2ϱ_2^2}{1 + ϱ_2}\n",
        "\\end{align}\n",
        "\n",
        "Questa probabilità prende il nome di \"*formula C di Erlang*\" indicata come $C[2, λ/μ]$"
      ],
      "metadata": {
        "id": "jAfi1O9NtRPK"
      }
    },
    {
      "cell_type": "markdown",
      "source": [
        "I parametri prestazionali del sistema sono riportati qui di seguito:\n",
        "\n",
        "*   Frequenza media di arrivo per unità di tempo: $λ^* = λ$\n",
        "*   Frequenza media di arrivo per unità di tempo: $μ^* = μ$\n",
        "*   Intensità di traffico: $a =\\: \\frac{λ}{μ}$\n",
        "*   Fattore di utilizzazione del sistema: $ϱ^*=\\:\\frac{λ}{2μ}$\n",
        "*   Numero medio di utenti nel sistema: $E(N) = \\frac{2ϱ_2}{1 - ϱ_2^2}$\n",
        "*   Numero medio di utenti in coda: $E(N_q) = \\frac{2ϱ_2^3}{1 - ϱ_2^2}$\n",
        "*   Numero medio di utenti in servizio: $E(N_s) = \\:\\frac{λ}{μ}$\n",
        "*   Tempo medio di attesa nel sistema: $E(W) = \\frac{1}{μ(1 - ϱ_2^2)}$\n",
        "*   Tempo medio di attesa in coda: $E(Q) =\\: \\frac{ϱ_2^2}{μ(1 - ϱ_2^2)}$\n",
        "*   Tempo medio di attesa in servizio: $E(S) = \\frac{1}{μ}$\n",
        "\n"
      ],
      "metadata": {
        "id": "WfkIN8mTzn_K"
      }
    },
    {
      "cell_type": "markdown",
      "source": [
        "# **SIMULAZIONE**"
      ],
      "metadata": {
        "id": "08xvBCoImw8F"
      }
    },
    {
      "cell_type": "markdown",
      "source": [
        "Andiamo adesso a simulare i sistemi M\\M\\1 e M\\M\\2 sia in condizioni di equilibrio statistico che nel transiente."
      ],
      "metadata": {
        "id": "WLDOPoJSNbr8"
      }
    },
    {
      "cell_type": "markdown",
      "source": [
        "Per poter simulare i sistemi di servizio necessitiamo di simulare quelli che sono il numero di utenti nel sistema in condizioni di equilibrio statistico e i tempi di interarrivo e di servizio nel transiente, quindi delle variabili aleatorie discrete e continue.\n",
        "Vediamo come simulare entrambi i tipi di variabili aleatorie."
      ],
      "metadata": {
        "id": "HxPHCKEsrQus"
      }
    },
    {
      "cell_type": "markdown",
      "source": [
        "\n",
        "\n",
        "---\n",
        "\n",
        "\n",
        "**Simulazione di variabili aleatorie discrete**"
      ],
      "metadata": {
        "id": "zKN4uvdQjHL7"
      }
    },
    {
      "cell_type": "markdown",
      "source": [
        "Siamo interessati a simulare il numero di utenti presenti nel sistema in condizioni di equilibrio.  \n",
        "Per simulare una variabile aleatoria discreta $X$ che assume valori $x_1,x_2,...$, con funzione di probabilità $p_j = P(N = j) = x_j$, dobbiamo suddividere l'intervallo $(0,1)$ in tanti sottointervalli di ampiezza $p_1,p_2,...$ tali che $p_1 + p_2 + ... = 1$. Fatto ciò andiamo a simulare una variabile aleatoria $U$ uniformemente distribuita nell'intervallo $(0,1)$. La funzione di probabilità di $X$ sarà determinata dalla seguente relazione:\n",
        "\\begin{align}\n",
        "        X = \\left\\{\n",
        "        \\begin{array}{cl}\n",
        "        x_1, & 0 \\leq U < p_1 \\\\\n",
        "        x_2, & p_1 \\leq U < p_1+p_2 \\\\\n",
        "        ...\\\\\n",
        "        ...\\\\\n",
        "        ...\\\\\n",
        "        x_j, & ∑_{i = 1}^{j-1} p_i \\leq U < ∑_{i = 1}^{j} p_i \\\\\n",
        "        ...\\\\\n",
        "        ...\\\\\n",
        "        ...\\\\\n",
        "        \\end{array}\n",
        "        \\right.\n",
        "    \\end{align}"
      ],
      "metadata": {
        "id": "qoMWtTE_jtCT"
      }
    },
    {
      "cell_type": "markdown",
      "source": [
        "\n",
        "\n",
        "---\n",
        "\n",
        "\n",
        "**Simulazione di variabili aleatorie continue**"
      ],
      "metadata": {
        "id": "zh6_sePEc9x7"
      }
    },
    {
      "cell_type": "markdown",
      "source": [
        "Siamo interessati nel nostro caso a simulare tempi di interarrivo e di servizio distribuiti esponenzialmente. Un modo per simulare questo tipo di variabili aleatorie è il \"*metodo di inversione della funzione di distribuzione*\".  \n",
        "Il metodo di inversione della funzione di distribuzione permette di simulare una variabile aleatoria continua partendo da una variabile aleatoria uniformemente distribuita nell'intervallo $(0, 1)$.  \n",
        "Quindi: sia $U$ una variabile aleatoria uniformemente distribuita nell'intervallo $(0, 1)$. La variabile aleatoria continua $X$ può essere ottenuta nel seguente modo:\n",
        "\n",
        "$X = F^{-1}(U)\\:\\:\\:$ o $\\:\\:\\:U = F(X)$\n",
        "\n",
        "Quindi, se $X$ ha una funzione di distribuzione invertibile $F(x)$, generando una variabile aleatoria uniformemente distribuita nell'intervallo $(0, 1)$ posso simulare $X$ ponendo una delle due condizioni sopra indicate."
      ],
      "metadata": {
        "id": "pEk-rv7Br6PH"
      }
    },
    {
      "cell_type": "markdown",
      "source": [
        "Ora che abbiamo visto come simulare i tempi di interarrivo e di servizio, procediamo a descrivere come simuliamo i sistemi M/M/1 e M/M/2"
      ],
      "metadata": {
        "id": "xmWJx6txwdVo"
      }
    },
    {
      "cell_type": "markdown",
      "source": [
        "\n",
        "\n",
        "---\n",
        "\n",
        "\n",
        "**Linguaggio e funzioni utili**"
      ],
      "metadata": {
        "id": "cWmdb2xPdGCQ"
      }
    },
    {
      "cell_type": "markdown",
      "source": [
        "Per simulare i nostri sistemi di servizio useremo il linguaggio Python e alcune sue librerie:\n",
        "\n",
        "*   `pandas`: pandas è una libreria che permette di operare sui dati\n",
        "*   `numpy`: numpy è una libreria che permette di eseguire funzioni matematiche e operazioni su array\n",
        "*   `matplotlib.pyplot` è una libreria che permette di realizzare grafici\n",
        "\n",
        "Il comando `import` permette di importare le librerie."
      ],
      "metadata": {
        "id": "yALDoDNfGdra"
      }
    },
    {
      "cell_type": "code",
      "source": [
        "%matplotlib inline\n",
        "import pandas as pd\n",
        "import numpy as np\n",
        "import matplotlib.pyplot as plt"
      ],
      "metadata": {
        "id": "iBcPowSGujMf"
      },
      "execution_count": null,
      "outputs": []
    },
    {
      "cell_type": "markdown",
      "source": [
        "Prima di passare alla simulazione dei sistemi di servizio, dobbiamo creare una funzione che ci permetta di generare una sequenza di numeri uniformi. La funzione `uniform` contenuta nella libreria `numpy` permette di creare un array di dimensione n di numeri uniformi in un intervallo specificato *(a, b)*. Quindi, la possiamo usare per definire l'equivalente della funzione `runif` del linguaggio `R`. La funzione semplicemente riceve come parametro il numero *n* che rappresenta il numero di elementi da generare. La funzione restituirà in output il vettore `u` di *n* numeri uniformi.\n"
      ],
      "metadata": {
        "id": "tuzK-5FsSseJ"
      }
    },
    {
      "cell_type": "code",
      "source": [
        "def PythonUnif(n):\n",
        "  u = np.random.uniform(0.0,1.0,size=n)\n",
        "  \n",
        "  return u"
      ],
      "metadata": {
        "id": "-_ShHIAl5NMS"
      },
      "execution_count": null,
      "outputs": []
    },
    {
      "cell_type": "markdown",
      "source": [
        "Inoltre, definiamo una funzione che ci permette di visualizzare in un `DataFrame` il numero di elementi all'interno di un `array`."
      ],
      "metadata": {
        "id": "_3001onV7WuH"
      }
    },
    {
      "cell_type": "code",
      "source": [
        "def table(a):\n",
        "  elements, count = np.unique(a,return_counts=True)\n",
        "  df = pd.DataFrame(data = count, columns=['Numero utenti'])\n",
        "  df.set_index(elements.astype(int), inplace=True)\n",
        "  return df"
      ],
      "metadata": {
        "id": "ROBbi9CAW74d"
      },
      "execution_count": null,
      "outputs": []
    },
    {
      "cell_type": "markdown",
      "source": [
        "# Simulazione del sistema **M/M/1** in equilibrio statistico"
      ],
      "metadata": {
        "id": "gOmRO_chU_Ym"
      }
    },
    {
      "cell_type": "markdown",
      "source": [
        "Il nostro scopo è quello di simulare una sequenza che descriva il numero di utenti in un sistema in condizioni di equilibio e confrontare i risultati ottenuti con i risultati teorici. In particolare ci interessiamo del numero medio di utenti nel sistema $E(N) = \\:\\frac{ϱ}{1 - ϱ}$ e delle probabilità di avere un determinato numero di utenti in condizione di equilibrio statistico $q_n$"
      ],
      "metadata": {
        "id": "YtvMEzYqBbBB"
      }
    },
    {
      "cell_type": "markdown",
      "source": [
        "\n",
        "\n",
        "---\n",
        "\n",
        "\n",
        "Sia N la variabile aleatoria che indica il numero di utenti presenti nel sistema in condizioni di equilibrio statistico. Dobbiamo simulare questa variabile aleatoria.  \n",
        "Dobbiamo quindi generare una variabile aleatoria uniformemente distribuita in $(0,1)$ e porre:\n",
        "\n",
        "\\begin{align}\n",
        "N = \\Bigl\\lfloor\\frac{log(1 -U)}{logϱ}\\Bigr\\rfloor\n",
        "\\end{align}\n",
        "\n",
        "dove ⌊x⌋ rappresenta il più grande intero minore o uguale di x.\n",
        "\n",
        "\n",
        "---\n",
        "\n"
      ],
      "metadata": {
        "id": "jhae85hxgklt"
      }
    },
    {
      "cell_type": "markdown",
      "source": [
        "La funzione `MM1queue` ha come argomenti in input il numero `n` che rappresenta la lunghezza della sequenza da generare, il parametro `rho` e il `seme` da utilizzare (in questo modo se eseguiremo la funzione più volte otterremo sempre gli stessi risultati)"
      ],
      "metadata": {
        "id": "rAvovD1sDYVw"
      }
    },
    {
      "cell_type": "code",
      "source": [
        "def MM1queue(n, rho, seme):\n",
        "  np.random.seed(seme) #impostiamo il seme\n",
        "  u = PythonUnif(n) #generiamo una variabile uniformemente distribuita in (0,1)\n",
        "  w = np.log(1-u)/np.log(rho) #simuliamo i valori della variabile aleatoria N\n",
        "  N = np.floor(w) #otteniamo i valori dei più grandi interi minori o uguali di w\n",
        "\n",
        "  return N"
      ],
      "metadata": {
        "id": "0YpbxzA3ViqR"
      },
      "execution_count": null,
      "outputs": []
    },
    {
      "cell_type": "markdown",
      "source": [
        "Eseguiamo la funzione con `n` = 1000, `rho` = 0.6 e `seme` = 3 e stampiamo in output la media degli utenti e le frequenze assolute ed relative del numero di utenti nel sistema. "
      ],
      "metadata": {
        "id": "g8xV1eIaEGEI"
      }
    },
    {
      "cell_type": "code",
      "source": [
        "utenti = MM1queue(1000,0.6,3)\n",
        "print(\"Numero medio utenti: {}\".format(np.mean(utenti)))\n",
        "print(\"\\n\")\n",
        "df = table(utenti)\n",
        "print(\"Frequenza assoluta utenti: \\n\",df.T)\n",
        "print(\"\\n\")\n",
        "print(\"Frequenza relativa utenti: \\n\", np.round(df.T/len(utenti),3))"
      ],
      "metadata": {
        "id": "fv36Tqo9WYGl"
      },
      "execution_count": null,
      "outputs": []
    },
    {
      "cell_type": "markdown",
      "source": [
        "I risultati ottenuti con $ϱ = 0.6 = \\frac{2}{3} = \\:\\frac{λ}{μ}$ dimostrano che i risultati ottenuti tramite la simulazione sono in accordo con i risultati teorici. Infatti: \n",
        "\n",
        "$E(N) = \\frac{ϱ}{1 - ϱ} = \\frac{0.6}{0.4} = 1.5$\n",
        "\n",
        "e\n",
        "\n",
        "$q_0 = 1 - ϱ = 0.4$  \n",
        "$q_2 = (1 - ϱ)ϱ^n = 0.4⋅(0.6)^2 = 0.144$\n",
        "\n"
      ],
      "metadata": {
        "id": "Yi8xL3UVE1In"
      }
    },
    {
      "cell_type": "markdown",
      "source": [
        "# Simulazione del sistema **M/M/1** nel transiente"
      ],
      "metadata": {
        "id": "HZJrc52CZ8eO"
      }
    },
    {
      "cell_type": "markdown",
      "source": [
        "Per questa simulazione vogliamo calcolare:\n",
        "\n",
        "\n",
        "*   Le stime di avere k utenti nell'intervallo $(0,t_f)$\n",
        "*   Una stima del numero medio di utenti nel sistema nell'intervallo $(0,t_f)$"
      ],
      "metadata": {
        "id": "BGF01AT4Lmhw"
      }
    },
    {
      "cell_type": "markdown",
      "source": [
        "\n",
        "\n",
        "---\n",
        "\n",
        "\n",
        "Quando simuliamo un sistema nel transiente, dobbiamo simulare le variabili aleatorie che rappresentano i tempi di arrivo e i tempi di servizio. Nel nostro caso queste variabili sono indipendenti e uniformemente distribuite secondo una funzione di distribuzione esponenziale. Dobbiamo quindi simulare questa tipologia di variabili continue.  \n",
        "Quindi sia $X$ una variabile aleatoria esponenziale di valore medio $1/λ$ con funzione di distribuzione:\n",
        "\n",
        "\\begin{align}\n",
        "        F_X(x) = P(X < x) = \\left\\{\n",
        "        \\begin{array}{cl}\n",
        "        0 & x \\leq 0 \\\\\n",
        "        1-e^{-λx} & x > 0\n",
        "        \\end{array}\n",
        "        \\right.\n",
        "    \\end{align}\n",
        "\n",
        "  \n",
        "\n",
        "Poniamo $U = F(X) = 1-e^{-λX}$ e ricaviamo la X:\n",
        "\n",
        "$e^{-λX} = 1 - U \\rightarrow -λX = log(1 - U) \\rightarrow X = -\\frac{1}{λ}log(1 - U)$  \n",
        "Quindi, ci basterà generare una variabile aleatoria uniformente distribuita in $(0,1)$ di valori $u_0,u_1,...$ e ricavare i valori $x_i$ nel seguente modo:  \n",
        "$x_i = -\\frac{1}{λ}log(1 - u_i) \\:\\:\\:\\:\\: (i = 0,1,2....)$\n",
        "\n",
        "\n",
        "---\n",
        "\n"
      ],
      "metadata": {
        "id": "ZyOGWlCMtj7u"
      }
    },
    {
      "cell_type": "markdown",
      "source": [
        "**Procedura di arrivo**"
      ],
      "metadata": {
        "id": "DVGntWVcc0E6"
      }
    },
    {
      "cell_type": "markdown",
      "source": [
        "La funzione `procedura_arrivo` simula l'arrivo di un utente nel sistema. Riceve come parametri il tempo `t`, il tempo del nuovo arrivo `t_A`, il tempo di completamento del servizio dell'utente in servizio `t_U`, il numero cumulativo degli arrivi `N_A`, il numero di utenti nel sistema `n`, il numero di utenti in coda `n_q`, il parametro lambda `l` e il parametro mu `mu`"
      ],
      "metadata": {
        "id": "Lfr9pA_OMcbz"
      }
    },
    {
      "cell_type": "code",
      "source": [
        "def  procedura_arrivo(t, t_A, t_U, N_A, n, n_q, l, mu):\n",
        "  print(\"### - Procedura di arrivo - ###\")\n",
        "  t = t_A #il tempo di osservzione diventa il tempo di nuovo arrivo\n",
        "  N_A += 1 #il numero cumulativo di arrivi viene incrementato di 1\n",
        "  n += 1 #il numero di utenti nel sistema viene incrementato di 1\n",
        "  if(n == 1): #se nel sistema è presente un solo utente\n",
        "    u = PythonUnif(1) \n",
        "    s = -np.log(1-u)/mu #generiamo il tempo di servizio s\n",
        "    #registriamo il tempo di completamento di servizio come il tempo attuale\n",
        "    #sommato al tempo di servizio\n",
        "    t_U = t + s \n",
        "  elif(n > 1): #se nel sistema sono presenti più utenti\n",
        "    n_q += 1 #il numero di utenti in coda viene incrementato di 1\n",
        "  \n",
        "  u = PythonUnif(1)\n",
        "  a = -np.log(1-u)/l #generiamo un nuovo tempo di interarrivo\n",
        "  t_A = t + a #il nuovo arrivo si verificherà al tempo t sommato il nuovo tempo di interarrivo\n",
        "\n",
        "  return t, t_A, t_U, N_A, n, n_q"
      ],
      "metadata": {
        "id": "LWseB5SHNzEd"
      },
      "execution_count": null,
      "outputs": []
    },
    {
      "cell_type": "markdown",
      "source": [
        "**Procedura di partenza**"
      ],
      "metadata": {
        "id": "ivIdgdXXctir"
      }
    },
    {
      "cell_type": "markdown",
      "source": [
        "La funzione `procedura_partenza` simula la partenza di un utente dal sistema. Riceve come parametri il tempo `t`, il tempo di completamento del servizio dell'utente attualmente in servizio `t_U`, il numero cumulativo di partenze dal sistema `N_U`, il numero di utenti nel sistema `n`, il numero di utenti in coda `n_q`, il parametro lambda `l` e il parametro mu `mu`"
      ],
      "metadata": {
        "id": "ah7qlgIoMcUC"
      }
    },
    {
      "cell_type": "code",
      "source": [
        "def procedura_partenza(t, t_U, N_U, n, n_q, l, mu):\n",
        "  print(\"### - Procedura di partenza - ###\")\n",
        "  t = t_U #il tempo di osservazione diventa il tempo di partenza dal sistema\n",
        "  N_U += 1 #il numero cumulativo di partenze viene incrementato di uno\n",
        "  n -= 1 #il numero di utenti nel sistema viene decrementato di uno\n",
        "  if(n > 0): #se nel sistema ci sono altri utenti\n",
        "    n_q -= 1 #il numero di utenti in coda viene decrementato\n",
        "    u = PythonUnif(1)\n",
        "    s = -np.log(1-u)/mu #generiamo un tempo di servizio\n",
        "    t_U = t + s #il tempo di partenza sarà uguale al tempo osservato sommato il tempo di servizio\n",
        "  elif(n == 0): #altrimenti se il numero di utenti nel sistema è zero\n",
        "    t_U = np.inf #il successivo tempo di partenza viene posto a infinito\n",
        "\n",
        "  return t, t_U, N_U, n, n_q\n"
      ],
      "metadata": {
        "id": "p9Kc1z9cO5nU"
      },
      "execution_count": null,
      "outputs": []
    },
    {
      "cell_type": "markdown",
      "source": [
        "**Procedura di terminazione**"
      ],
      "metadata": {
        "id": "AdxL2YMccqGH"
      }
    },
    {
      "cell_type": "markdown",
      "source": [
        "La funzione `procedura_terminazione` simula la partenza degli utenti rimasti nel sistema quando la simulazione termina. Riceve in input come parametri gli stessi della funzione `procedura_partenza`"
      ],
      "metadata": {
        "id": "nQm7a42HMqdi"
      }
    },
    {
      "cell_type": "code",
      "source": [
        "def procedura_terminazione(t, t_U, N_U, n, n_q, l, mu):\n",
        "  print(\"### - Procedura di terminazione - ###\")\n",
        "  df = pd.DataFrame(columns = ['t','N_A','N_U','n','n_q','t_A','t_U','Procedura'])\n",
        "  j = 0\n",
        "  while(n > 0): #fino a quando nel sistema ci sono utenti\n",
        "    #inneschiamo procedure di partenza\n",
        "    t, t_U, N_U, n, n_q = procedura_partenza(t, t_U, N_U, n, n_q, l, mu)\n",
        "    df.loc[j,'t'] = t\n",
        "    df.loc[j,'N_A'] = N_A\n",
        "    df.loc[j,'N_U'] = N_U\n",
        "    df.loc[j,'n'] = n\n",
        "    df.loc[j,'n_q'] = n_q\n",
        "    df.loc[j,'t_A'] = t_A\n",
        "    df.loc[j,'t_U'] = t_U\n",
        "    df.loc[j,'Procedura'] = 'Procedura di terminazione'\n",
        "    j += 1\n",
        "\n",
        "  return t, t_U, N_U, n, n_q, df"
      ],
      "metadata": {
        "id": "Hs7WDcifQNnl"
      },
      "execution_count": null,
      "outputs": []
    },
    {
      "cell_type": "markdown",
      "source": [
        "**Procedura di simulazione**"
      ],
      "metadata": {
        "id": "TJNbvgwEcmng"
      }
    },
    {
      "cell_type": "code",
      "source": [
        "t_c = 50 #tempo totale di simulazione\n",
        "N_A = 0 #numero cumulativo di arrivi \n",
        "N_U = 0 #numero cumulativo di partenze\n",
        "n = 0 #numero totale di utenti nel sistema\n",
        "n_q = 0 #numero totale di utenti in coda\n",
        "t = 0 #tempo di osservazione degli eventi\n",
        "l = 2 #lambda\n",
        "mu = 3 #mu\n",
        "\n",
        "u = PythonUnif(1)\n",
        "t_A = -np.log(1-u)/l #tempo del nuovo arrivo nel sistema\n",
        "t_U = np.inf #tempo di partenza dal sistema\n",
        "\n",
        "df = pd.DataFrame(columns = ['t','N_A','N_U','n','n_q','t_A','t_U','Procedura'])\n",
        "i = 1\n",
        "df.loc[0,'t'] = t\n",
        "df.loc[0,'N_A'] = N_A\n",
        "df.loc[0,'N_U'] = N_U\n",
        "df.loc[0,'n'] = n\n",
        "df.loc[0,'n_q'] = n_q\n",
        "df.loc[0,'t_A'] = t_A\n",
        "df.loc[0,'t_U'] = t_U\n",
        "\n",
        "df.loc[0,'Procedura'] = 'Inizializzazione'\n",
        "\n",
        "while (t < t_c):\n",
        "  t_f = t\n",
        "  i += 1\n",
        "  if(t_A <= t_U and t_A <= t_c):\n",
        "    #se il tempo di arrivo del nuovo utente è minore o uguale del tempo di completamento di servizio dell'\n",
        "    #utente attualmente in servizio e questo nuovo tempo di arrivo è minore del tempo massimo di simulazione\n",
        "    #si innesca la proceura di arrivo \n",
        "    df.loc[i,'Procedura'] = 'Procedura di arrivo'\n",
        "    t, t_A, t_U, N_A, n, n_q = procedura_arrivo(t, t_A, t_U, N_A, n, n_q, l, mu)\n",
        "  elif(t_U < t_A and t_U <= t_c):\n",
        "    #se il tempo di completamento di servizio è minore o uguale del tempo del nuovo tempo di arrivo\n",
        "    #e il tempo di completamento del servizio è minore del tempo massimo di simulazione\n",
        "    #si innesca la proceura di partenza \n",
        "    df.loc[i,'Procedura'] = 'Procedura di partenza'\n",
        "    t, t_U, N_U, n, n_q = procedura_partenza(t, t_U, N_U, n, n_q, l, mu)\n",
        "  elif(np.minimum(t_A,t_U) > t_c):\n",
        "    #se il minimo tra il tempo di nuovo arrivo e il tempo di completamento del servizio\n",
        "    #è maggiore del tempo massimo di simulazione\n",
        "    #si innesca la procedura di terminazione\n",
        "    t, t_U, N_U, n, n_q, df1 = procedura_terminazione(t, t_U, N_U, n, n_q, l, mu)\n",
        "    break\n",
        "\n",
        "  df.loc[i,'t'] = t\n",
        "  df.loc[i,'N_A'] = N_A\n",
        "  df.loc[i,'N_U'] = N_U\n",
        "  df.loc[i,'n'] = n\n",
        "  df.loc[i,'n_q'] = n_q\n",
        "  df.loc[i,'t_A'] = t_A\n",
        "  df.loc[i,'t_U'] = t_U\n",
        "\n",
        "df = pd.concat([df,df1], ignore_index=True)\n",
        "df"
      ],
      "metadata": {
        "id": "pu9kM_RRKKJT"
      },
      "execution_count": null,
      "outputs": []
    },
    {
      "cell_type": "markdown",
      "source": [
        "Creiamo un grafico a scalini che rappresenta il numero di utenti nel sistema nel'intervallo di tempo $(0,t_f)$"
      ],
      "metadata": {
        "id": "5qYe3lN3zj76"
      }
    },
    {
      "cell_type": "markdown",
      "source": [
        "\n",
        "\n",
        "---\n",
        "**Grafico**\n"
      ],
      "metadata": {
        "id": "bL7E7E1zchp4"
      }
    },
    {
      "cell_type": "code",
      "source": [
        "a = df['n'].max()\n",
        "plt.figure(figsize=(17,11))\n",
        "plt.step(df['t'],df['n'], color = 'black')\n",
        "plt.title('Numero di utenti al tempo t', fontsize = 17)\n",
        "plt.xlabel('t', fontsize = 18)\n",
        "\n",
        "plt.ylabel('N(t)', fontsize = 18)\n",
        "plt.yticks(range(0,a+1,1))\n",
        "plt.show()"
      ],
      "metadata": {
        "id": "rLN97rVyhB4P"
      },
      "execution_count": null,
      "outputs": []
    },
    {
      "cell_type": "markdown",
      "source": [
        "\n",
        "\n",
        "---\n",
        "\n",
        "\n",
        "**Calcolo delle stime**"
      ],
      "metadata": {
        "id": "jJ1t52P4ccF3"
      }
    },
    {
      "cell_type": "code",
      "source": [
        "n = df['n'].max()\n",
        "\n",
        "k = df['t'].copy()\n",
        "k = k.diff(1)\n",
        "\n",
        "media_utenti = 0\n",
        "for i in range(0,n+1):\n",
        "\n",
        "  t = df.loc[df['n'] == i]\n",
        "  index = np.array(t.index)\n",
        "  if i == 0: index = np.delete(index,0)\n",
        "  a = 0\n",
        "  for j in index:\n",
        "    a += k[j]\n",
        "  \n",
        "  media_utenti += i*(a/t_f)\n",
        "\n",
        "  q_i = \"Stima di avere \"+str(i)+\" utenti nel sistema, q\"+str(i)+\" = \"\n",
        "  print(q_i + \"{}\".format(a/t_f))\n",
        "\n",
        "print(\"Stima del numero medio di utenti nel sistema: {}\".format(media_utenti))"
      ],
      "metadata": {
        "id": "up0JyFbK4e_c"
      },
      "execution_count": null,
      "outputs": []
    },
    {
      "cell_type": "markdown",
      "source": [
        "#Simulazione del sistema **M/M/2** in equilibrio statistico"
      ],
      "metadata": {
        "id": "lRPLlCU4iqsF"
      }
    },
    {
      "cell_type": "markdown",
      "source": [
        "Per questa simulazione, vogliamo calcolare:\n",
        "\n",
        "*   Numero medio di utenti nel sistema\n",
        "*   Alcune probabilità di avere un determinato numero di utenti nel sistema in condizioni di equilibrio statistico\n",
        "\n",
        "e confrontare i risultati ottenuti con i valori teorici\n"
      ],
      "metadata": {
        "id": "8cZfgG9nnPnZ"
      }
    },
    {
      "cell_type": "markdown",
      "source": [
        "\n",
        "\n",
        "---\n",
        "\n",
        "\n",
        "Sia N la variabile aleatoria che indica il numero di utenti presenti nel sistema in condizioni di equilibrio statistico. Dobbiamo simulare questa variabile aleatoria.  \n",
        "Per fare ciò occorre generare una variabile aleatoria uniformemente distribuita in $(0,1)$ e porre:\n",
        "\n",
        "\\begin{align}\n",
        "N = \\Bigl\\lfloor\\frac{1}{ϱ_2}log(\\frac{(1 - U)(1 + ϱ_2)}{2})\\Bigr\\rfloor\n",
        "\\end{align}\n",
        "\n",
        "dove ⌊x⌋ rappresenta il più grande intero minore o uguale di x.\n",
        "\n",
        "\n",
        "---\n",
        "\n"
      ],
      "metadata": {
        "id": "Xnw0JZZ7miim"
      }
    },
    {
      "cell_type": "markdown",
      "source": [
        "Definiamo una funzione `MM2queue`, che riceve in input i parametri: `n` (la lunghezza della sequenza da generare), `rho2` e il `seme`"
      ],
      "metadata": {
        "id": "ER4fDxw-nu88"
      }
    },
    {
      "cell_type": "code",
      "source": [
        "def MM2queue(n, rho2, seme):\n",
        "  np.random.seed(seme) #impostiamo il seme\n",
        "  u = PythonUnif(n) #generiamo una variabile aleatoria uniformemente distribuita in (0,1)\n",
        "  w = np.log((1-u)*(1+rho2)/2)/np.log(rho2) #calcoliamo i valori della variabile aleatoria N\n",
        "  N = np.floor(w) #otteniamo i valori dei più grandi interi minori o uguali di w\n",
        "  return N"
      ],
      "metadata": {
        "id": "xCg81WULizXC"
      },
      "execution_count": null,
      "outputs": []
    },
    {
      "cell_type": "markdown",
      "source": [
        "Eseguiamo la funzione con `n` = 1000, `rho2` = 0.625 e `seme` = 3 e stampiamo in output la media degli utenti e le frequenze assolute ed relative del numero di utenti nel sistema. "
      ],
      "metadata": {
        "id": "UVINoXEJoNAZ"
      }
    },
    {
      "cell_type": "code",
      "source": [
        "utenti = MM2queue(1000, 0.625, 3)\n",
        "print(\"Numero medio utenti: {}\".format(np.mean(utenti)))\n",
        "df = table(utenti)\n",
        "print(\"Frequenza assoluta utenti: \\n\",df.T)\n",
        "print(\"\\n\")\n",
        "print(\"Frequenza relativa utenti: \\n\", np.round(df.T/len(utenti),3))"
      ],
      "metadata": {
        "id": "TflkgYGtjOYp"
      },
      "execution_count": null,
      "outputs": []
    },
    {
      "cell_type": "markdown",
      "source": [
        "I risultati ottenuti con $ϱ_2 = 0.625 = \\frac{5}{8} = \\:\\frac{λ}{2μ}$ dimostrano che i risultati ottenuti tramite la simulazione sono in accordo con i risultati teorici. Infatti: \n",
        "\n",
        "$E(N) = \\frac{2ϱ_2}{1-ϱ_2^2} = 2.051$\n",
        "\n",
        "e\n",
        "\n",
        "$q_0 = \\frac{1-ϱ_2}{1 + ϱ_2} = 0.231$  \n",
        "$q_2 = 2\\frac{1 - ϱ_2}{1+ϱ_2}ϱ_2^2 = 0.180$"
      ],
      "metadata": {
        "id": "AdTQ-L6Ukq8u"
      }
    },
    {
      "cell_type": "markdown",
      "source": [
        "#Simulazione del sistema **M/M/2** nel transiente"
      ],
      "metadata": {
        "id": "bT89-dldaCFD"
      }
    },
    {
      "cell_type": "markdown",
      "source": [
        "Per questa simulazione vogliamo calcolare:\n",
        "\n",
        "\n",
        "*   Le stime di avere k utenti nell'intervallo $(0,t_f)$\n",
        "*   Una stima del numero medio di utenti nel sistema nell'intervallo $(0,t_f)$ \n",
        "*   Una stima del tempo medio di attesa nel sistema nell'intervallo $(0,t_f)$\n",
        "\n"
      ],
      "metadata": {
        "id": "TVnw_rdo9PcP"
      }
    },
    {
      "cell_type": "markdown",
      "source": [
        "\n",
        "\n",
        "---\n",
        "\n",
        "\n",
        "**Procedura di arrivo**"
      ],
      "metadata": {
        "id": "XhCzeRs2atpe"
      }
    },
    {
      "cell_type": "markdown",
      "source": [
        "La funzione `procedura_arrivo_due_servitori` simula l'arrivo nel sistema di un utente. Riceve in input il tempo `t`, il tempo del nuovo arrivo `t_A`, il numero cumulativo di arrivi `N_A`, il numero di utenti nel sistema `n`, lo stato del sistema `SS`, il tempo di completamento di servizio dell'utente presso il servitore 1 `t1`, il tempo di completamento di servizio dell'utente presso il servitore 2 `t2`, il numero associato all'utente in servizio presso il servitore 1 `i1`, il numero associato all'utente in servizio presso il servitore 2 `i2`, la lista dove salvare i tempi di arrivo `A`, la frequenza di arrivo `l` e la frequenza di partenza `mu`"
      ],
      "metadata": {
        "id": "YY4reBNDFutW"
      }
    },
    {
      "cell_type": "code",
      "source": [
        "def procedura_arrivo_due_servitori(t, t_A, N_A, n, SS, t1, t2, i1, i2, A, l, mu):\n",
        "  print(\"### - Procedura di arrivo - ###\\n\")\n",
        "  t = t_A #il tempo di osservazione diventa il tempo di nuovo arrivo\n",
        "  N_A += 1 #il numero cumulativo di arrivi viene incrementato di uno\n",
        "  u = PythonUnif(1)\n",
        "  a = -np.log(1 - u)/l #generiamo un tempo di interarrivo\n",
        "  t_A = t + a #il tempo di nuovo arrivo è uguale al tempo di osservazione sommato il tempo di interarrivo\n",
        "  A.append(t) #salviamo il tempo di osservazione nella lista dei tempi di arrivo\n",
        "  if (SS == (0,0,0)): #se nel sistema NON c'erano utenti e entrambi i servitori sono liberi\n",
        "    u = PythonUnif(1) #generiamo una variabile uniformente distribuita in (0,1)\n",
        "    if(u < 0.5):  #se la variabile generata è minore di 0,5\n",
        "      SS = (1, N_A, 0) #nel sistema avremo un utente in servizio presso il primo servitore\n",
        "      n = 1 #il numero di utenti nel sistema è uno\n",
        "      i1 = N_A #il numero associato all'utente in servizio presso il primo servitore è N_A\n",
        "      u = PythonUnif(1)\n",
        "      s = -np.log(1-u)/mu #generiamo un tempo di servizio\n",
        "      #il tempo di completamento del servizio del primo servitore è il tempo di osservazione sommato\n",
        "      #il tempo di servizio\n",
        "      t1 = t + s \n",
        "    else: #altrimenti\n",
        "      SS = (1, 0, N_A) #nel sistema avremo un utente in servizio presso il secondo servitore\n",
        "      n = 1 #il numero di utenti nel sistema è uno\n",
        "      i2 = N_A #il numero associato all'utente in servizio presso il secondo servitore è N_A\n",
        "      u = PythonUnif(1)\n",
        "      s = -np.log(1-u)/mu #generiamo un tempo di servizio\n",
        "      #il tempo di completamento del servizio del secondo servitore è il tempo di osservazione sommato\n",
        "      #il tempo di servizio\n",
        "      t2 = t + s\n",
        "  elif(SS == (1, i1, 0)): #se nel sistema c'era un utente in servizio presso il primo servitore\n",
        "    SS = (2, i1, N_A) #nel sistema ci sono 2 utenti e il nuovo arrivo va verso il secondo servitore\n",
        "    n = 2 #il numero di utenti nel sistema è due\n",
        "    i2 = N_A #il numero associato all'utente in servizio presso il secondo servitore è N_A\n",
        "    u = PythonUnif(1)\n",
        "    s = -np.log(1-u)/mu #generiamo un tempo di servizio\n",
        "    #il tempo di completamento del servizio del secondo servitore è il tempo di osservazione sommato\n",
        "    #il tempo di servizio\n",
        "    t2 = t + s\n",
        "  elif(SS == (1, 0, i2)): #se nel sistema c'era un utente in servizio presso il secondo servitore\n",
        "    SS = (2, N_A, i2) #nel sistema ci sono 2 utenti e il nuovo arrivo va verso il primo servitore\n",
        "    n = 2 #il numero di utenti nel sistema è due\n",
        "    i1 = N_A #il numero associato all'utente in servizio presso il primo servitore è N_A\n",
        "    u = PythonUnif(1)\n",
        "    s = -np.log(1-u)/mu #generiamo un tempo di servizio\n",
        "    #il tempo di completamento del servizio del primo servitore è il tempo di osservazione sommato\n",
        "    #il tempo di servizio\n",
        "    t1 = t + s\n",
        "  elif(n > 1 and SS == (n,i1,i2)): #se entrambi i servitori sono occupati\n",
        "    SS = (n+1,i1,i2) #nel sistema ci sono n+1 utenti\n",
        "    n += 1 #il numero di utenti nel sistema viene incrementato di uno\n",
        "\n",
        "  return t, t_A, N_A, n, SS, i1, i2, t1, t2, A"
      ],
      "metadata": {
        "id": "IX40GUvia7zp"
      },
      "execution_count": null,
      "outputs": []
    },
    {
      "cell_type": "markdown",
      "source": [
        "**Procedura di partenza dal primo servitore**"
      ],
      "metadata": {
        "id": "eG03EdQpa4xT"
      }
    },
    {
      "cell_type": "markdown",
      "source": [
        "La funzione `procedura_partenza_primo_servitore` simula la partenza dal sistema dell'utente dal servitore 1. Riceve in input il tempo `t`, il tempo di completamento di servizio dell'utente presso il servitore 1 `t1`, il numero cumulativo di partenze dal servitore 1 `C1`, il numero di utenti nel sistema `n`, lo stato del sistema `SS`, il numero associato all'utente in servizio presso il servitore 1 `i1`, il numero associato all'utente in servizio presso il servitore 2 `i2`, la lista dove salvare i tempi di partenza `U` e la frequenza di partenza `mu`"
      ],
      "metadata": {
        "id": "BlCZztDpG6wY"
      }
    },
    {
      "cell_type": "code",
      "source": [
        "def procedura_partenza_primo_servitore(t, t1, C1, n, SS, i1, i2, U, mu):\n",
        "  print(\"### - Procedura partenza primo servitore - ###\\n\")\n",
        "  #il tempo di osservazione è il tempo di completamento del servizio dell'utente presso il\n",
        "  #primo servitore\n",
        "  t = t1\n",
        "  C1 += 1 #il numero cumulativo di partenze dal primo servitore è incrementato di uno\n",
        "  U.append(t) #salviamo il tempo di osservazione nella lista dei tempi di partenza\n",
        "  if(n == 1): #se il numero di utenti nel sistema è uno\n",
        "    SS = (0,0,0) #entrambi i servitori sono liberi\n",
        "    n = 0 #il numero di utenti nel sistema è zero\n",
        "    i1 = 0 #il numero associato all'utente presso il primo servitore è zero\n",
        "    t1 = np.inf #il tempo di completamento del servizio del primo servitore è infinito\n",
        "  elif(n == 2): #se nel sistema ci sono due utenti\n",
        "    SS = (1,0,i2) #si verifica una partenza dal primo servitore\n",
        "    n = 1 #il numero di utenti nel sistema è uno\n",
        "    i1 = 0 #il numero associato all'utente presso il primo servitore è zero\n",
        "    t1 = np.inf #il tempo di completamento del servizio del primo servitore è infinito\n",
        "  elif(n > 2 and SS == (n,i1,i2)): #se entrambi i servitori sono occupati\n",
        "    m = np.maximum(i1,i2) #otteniamo il numero associato all'utente che ha completato il servizio\n",
        "    SS = (n-1,m+1,i2) #entra in servizio l'utente numerato m+1\n",
        "    i1 = m+1 #il numero associato all'utente presso il primo servitore è m+1\n",
        "    n -= 1 #il numero di utenti nel sistema viene decrementato di uno\n",
        "    u = PythonUnif(1)\n",
        "    s = -np.log(1-u)/mu #generiamo un tempo di servizio\n",
        "    #il tempo di completamento del servizio dell'utente presso il primo servitore\n",
        "    #è il tempo di osservazione sommato al tempo di servizio\n",
        "    t1 = t + s   \n",
        "  \n",
        "  return t, C1, SS, i1, t1, n, U"
      ],
      "metadata": {
        "id": "b3gd7vdZjBOb"
      },
      "execution_count": null,
      "outputs": []
    },
    {
      "cell_type": "markdown",
      "source": [
        "**Procedura di partenza dal secondo servitore**"
      ],
      "metadata": {
        "id": "udRnbkxkbD5O"
      }
    },
    {
      "cell_type": "markdown",
      "source": [
        "La funzione `procedura_partenza_secondo_servitore` simula la partenza dal sistema dell'utente dal servitore 2. Riceve in input il tempo `t`, il tempo di completamento di servizio dell'utente presso il servitore 2 `t2`, il numero cumulativo di partenze dal servitore 2 `C2`, il numero di utenti nel sistema `n`, lo stato del sistema `SS`, il numero associato all'utente in servizio presso il servitore 1 `i1`, il numero associato all'utente in servizio presso il servitore 2 `i2`, la lista dove salvare i tempi di partenza `U` e la frequenza di partenza `mu`"
      ],
      "metadata": {
        "id": "XU6BAygKHZ1B"
      }
    },
    {
      "cell_type": "code",
      "source": [
        "def procedura_partenza_secondo_servitore(t, t2, C2, n, SS, i1, i2, U, mu):\n",
        "  print(\"### - Procedura partenza secondo servitore - ###\\n\")\n",
        "  #il tempo di osservazione è il tempo di completamento del servizio dell'utente presso il secondo servitore\n",
        "  t = t2\n",
        "  C2 += 1 #il numero cumulativo di partenze dal primo servitore è incrementato di uno\n",
        "  U.append(t) #salviamo il tempo di osservazione nella lista dei tempi di partenza\n",
        "  if(n == 1): #se il numero di utenti nel sistema è uno\n",
        "    SS = (0,0,0) #entrambi i servitori sono liberi\n",
        "    n = 0 #il numero di utenti nel sistema è zero\n",
        "    i2 = 0 #il numero associato all'utente presso il secondo servitore è zero\n",
        "    t2 = np.inf #il tempo di completamento del servizio del secondo servitore è infinito\n",
        "  elif(n == 2): #se nel sistema ci sono due utenti\n",
        "    SS = (1,i1,0) #si verifica una partenza dal primo servitore\n",
        "    n = 1 #il numero di utenti nel sistema è uno\n",
        "    i2 = 0 #il numero associato all'utente presso il secondo servitore è zero\n",
        "    t2 = np.inf #il tempo di completamento del servizio del primo servitore è infinito\n",
        "  elif(n > 2 and SS == (n,i1,i2)): #se entrambi i servitori sono occupati\n",
        "    m = np.maximum(i1,i2) #otteniamo il numero associato all'utente che ha completato il servizio\n",
        "    SS = (n-1,i1,m+1) #entra in servizio l'utente numerato m+1\n",
        "    i2 = m+1 #il numero associato all'utente presso il secondo servitore è m+1\n",
        "    n -= 1 #il numero di utenti nel sistema viene decrementato di uno\n",
        "    u = PythonUnif(1)\n",
        "    s = -np.log(1-u)/mu #generiamo un tempo di servizio\n",
        "    #il tempo di completamento del servizio dell'utente presso il secondo servitore\n",
        "    #è il tempo di osservazione sommato al tempo di servizio\n",
        "    t2 = t +s\n",
        "\n",
        "  return t, C2, SS, i2, t2, n, U"
      ],
      "metadata": {
        "id": "A1cLhfg1kRof"
      },
      "execution_count": null,
      "outputs": []
    },
    {
      "cell_type": "markdown",
      "source": [
        "**Procedura di simulazione**"
      ],
      "metadata": {
        "id": "0EENVyHPbKR3"
      }
    },
    {
      "cell_type": "code",
      "source": [
        "t_c = 50 #tempo totale di esecuzione della simulazione\n",
        "t = 0 #tempo di osservazione degli eventi\n",
        "n = 0 #numero di utenti nel sistema\n",
        "N_A = 0 #numero totale di arrivi fino al tempo t\n",
        "C1 = 0 #numero totale di partenze dal primo servitore\n",
        "C2 = 0 #numero totale di partenze dal secondo servitore\n",
        "SS = (0,0,0) #variabili di stato del sistema\n",
        "i1 = 0 #numero associato all'utente attualmente in servizio presso il primo servitore\n",
        "i2 = 0 #numero associato all'utente attualmente in servizio presso il secondo servitore\n",
        "\n",
        "U = list() #lista dove salviamo i tempi di partenza degli utenti\n",
        "A = list() #lista dove salviamo i tempi di arrivo degli utenti\n",
        "\n",
        "l = 4 #lambda\n",
        "mu = 5 #mu\n",
        "\n",
        "u = PythonUnif(1)\n",
        "t_A = -np.log(1-u)/l #tempo del nuovo arrivo\n",
        "t1 = np.inf #tempo di completamento del servizio dell' utente presso il primo servitore\n",
        "t2 = np.inf #tempo di completamento del servizio dell' utente presso il secondo servitore\n",
        "\n",
        "df = pd.DataFrame(columns = ['t','N_A','n','C1','C2','SS','A','U','Procedura'])\n",
        "i = 1\n",
        "df.loc[0,'t'] = t\n",
        "df.loc[0,'N_A'] = N_A\n",
        "df.loc[0,'n'] = n\n",
        "df.loc[0,'C1'] = C1\n",
        "df.loc[0,'C2'] = C2\n",
        "df.loc[0,'SS'] = SS\n",
        "df.loc[0,'A'] = 0\n",
        "df.loc[0,'U'] = 0\n",
        "df.loc[0,'Procedura'] = \"Inizializzazione\"\n",
        "\n",
        "while(t < t_c):\n",
        "  t_f = t\n",
        "  print(\"Stato sistema: \", SS)\n",
        "  i += 1\n",
        "  if(t_A < t1 and t_A < t2):\n",
        "   #se il tempo di arrivo è minore sia del tempo di completamento del servizio degli utenti in servizio\n",
        "   #presso i due servitori, si innesca una procedura di partenza\n",
        "   df.loc[i,'Procedura'] = \"Arrivo\" \n",
        "   t, t_A, N_A, n, SS, i1, i2, t1, t2, A = procedura_arrivo_due_servitori(t, t_A, N_A, n, SS, t1, t2, i1, i2, A, l, mu)\n",
        "   df.loc[i,'A'] = t\n",
        "   df.loc[i,'U'] = \"-\"\n",
        "  elif(t1 < t_A and t1 <= t2):\n",
        "    #se il tempo di servizio del servitore 1 è minore del tempo di arrivo di un nuovo utente \n",
        "    #ed è minore del tempo di servizio dell'utente presso il servitore 2, \n",
        "    #si innesca la procedura di partenza dal primo servitore\n",
        "    df.loc[i,'Procedura'] = \"Partenza primo servitore\"\n",
        "    t, C1, SS, i1, t1, n, U = procedura_partenza_primo_servitore(t, t1, C1, n, SS, i1, i2, U, mu)\n",
        "    df.loc[i,'A'] = \"-\"\n",
        "    df.loc[i,'U'] = t\n",
        "  elif(t2 < t_A and t2 <= t1):\n",
        "    #se il tempo di servizio del servitore 2 è minore del tempo di arrivo di un nuovo utente \n",
        "    #ed è minore del tempo di servizio dell'utente presso il servitore 1, \n",
        "    #si innesca la procedura di partenza dal secondo servitore\n",
        "    df.loc[i,'Procedura'] = \"Partenza secondo servitore\"\n",
        "    t, C2, SS, i2, t2, n, U = procedura_partenza_secondo_servitore(t, t2, C2, n, SS, i1, i2, U, mu)\n",
        "    df.loc[i,'A'] = \"-\"\n",
        "    df.loc[i,'U'] = t\n",
        "  \n",
        "  df.loc[i,'t'] = t\n",
        "  df.loc[i,'N_A'] = N_A\n",
        "  df.loc[i,'n'] = n\n",
        "  df.loc[i,'C1'] = C1\n",
        "  df.loc[i,'C2'] = C2\n",
        "  df.loc[i,'SS'] = SS\n",
        "\n",
        "#una volta raggiunto il tempo massimo della simulazione, facciamo uscire dal sistema tutti gli utenti rimasti\n",
        "while(n > 0):\n",
        "  i+=1\n",
        "  if(t1 < t2):\n",
        "    df.loc[i,'Procedura'] = \"Partenza primo servitore - Terminazione\"\n",
        "    t, C1, SS, i1, t1, n, U = procedura_partenza_primo_servitore(t, t1, C1, n, SS, i1, i2, U, mu)\n",
        "    df.loc[i,'A'] = \"-\"\n",
        "    df.loc[i,'U'] = t\n",
        "  elif(t2 < t1):\n",
        "    df.loc[i,'Procedura'] = \"Partenza secondo servitore - Terminazione\"\n",
        "    t, C2, SS, i2, t2, n, U = procedura_partenza_secondo_servitore(t, t2, C2, n, SS, i1, i2, U, mu)\n",
        "    df.loc[i,'A'] = \"-\"\n",
        "    df.loc[i,'U'] = t\n",
        "  \n",
        "  df.loc[i,'t'] = t\n",
        "  df.loc[i,'N_A'] = N_A\n",
        "  df.loc[i,'n'] = n\n",
        "  df.loc[i,'C1'] = C1\n",
        "  df.loc[i,'C2'] = C2\n",
        "  df.loc[i,'SS'] = SS\n",
        "\n",
        "#stampiamo i risultati ottenuti\n",
        "print(t_f)\n",
        "df[['n','N_A','C1','C2','SS','A','U','Procedura']]"
      ],
      "metadata": {
        "id": "i2j0F2q4aBFf"
      },
      "execution_count": null,
      "outputs": []
    },
    {
      "cell_type": "markdown",
      "source": [
        "\n",
        "\n",
        "---\n",
        "\n",
        "\n",
        "**Grafico**"
      ],
      "metadata": {
        "id": "H-qzSq1Ib11o"
      }
    },
    {
      "cell_type": "markdown",
      "source": [
        "Creiamo un grafico a scalini che rappresenta il numero di utenti nel sistema nell'intervallo $(0,t_f)$"
      ],
      "metadata": {
        "id": "lX3accpUzzEO"
      }
    },
    {
      "cell_type": "code",
      "source": [
        "a = df['n'].max()\n",
        "\n",
        "plt.figure(figsize=(17,11))\n",
        "plt.step(df['t'],df['n'], color = 'black')\n",
        "plt.title('Numero di utenti al tempo t', fontsize = 17)\n",
        "plt.xlabel('t', fontsize = 18)\n",
        "\n",
        "plt.ylabel('N(t)', fontsize = 18)\n",
        "plt.yticks(range(0,a+1,1))\n",
        "\n",
        "plt.show()"
      ],
      "metadata": {
        "id": "cclF3c_GtRXR"
      },
      "execution_count": null,
      "outputs": []
    },
    {
      "cell_type": "markdown",
      "source": [
        "\n",
        "\n",
        "---\n",
        "\n",
        "\n",
        "**Calcolo delle stime**"
      ],
      "metadata": {
        "id": "DRe4NB4DbwQ2"
      }
    },
    {
      "cell_type": "markdown",
      "source": [
        "Calcoliamo le stime di avere *n* utenti nel sistema nell'intervallo di tempo $(0,t_f)$. Da queste stime calcoliamo poi il numero medio di utenti nel sistema nell'intervallo di tempo $(0,t_f)$."
      ],
      "metadata": {
        "id": "urZrxY6fz1U3"
      }
    },
    {
      "cell_type": "code",
      "source": [
        "n = df['n'].max()\n",
        "\n",
        "k = df['t'].copy()\n",
        "k = k.diff(1)\n",
        "\n",
        "media_utenti = 0\n",
        "for i in range(0,n+1):\n",
        "\n",
        "  t = df.loc[df['n'] == i]\n",
        "  index = np.array(t.index)\n",
        "  if i == 0: index = np.delete(index,0)\n",
        "  a = 0\n",
        "  for j in index:\n",
        "    a += k[j]\n",
        "  \n",
        "  media_utenti += i*(a/t_f)\n",
        "\n",
        "  q_i = \"Stima di avere \"+str(i)+\" utenti nel sistema, q\"+str(i)+\" = \"\n",
        "  print(q_i + \"{}\".format(a/t_f))\n",
        "\n",
        "print(\"Stima del numero medio di utenti nel sistema: {}\".format(media_utenti))"
      ],
      "metadata": {
        "id": "--uqtydZE39b"
      },
      "execution_count": null,
      "outputs": []
    },
    {
      "cell_type": "markdown",
      "source": [
        "Infine, calcoliamo le stima del tempo medio in attesa degli utenti nel sistema nell'intervallo $(0, t_f)$"
      ],
      "metadata": {
        "id": "m1DFX1WeC0YB"
      }
    },
    {
      "cell_type": "code",
      "source": [
        "N_A = df['N_A'].max()\n",
        "w = 0\n",
        "for i in range(0,N_A):\n",
        "  w += (U[i]-A[i])\n",
        "\n",
        "print(\"Stima del tempo medio di attesa: {}\".format(w/N_A))"
      ],
      "metadata": {
        "id": "cW6-HePXA_HJ"
      },
      "execution_count": null,
      "outputs": []
    }
  ]
}